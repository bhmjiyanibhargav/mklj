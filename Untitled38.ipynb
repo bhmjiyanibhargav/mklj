{
 "cells": [
  {
   "cell_type": "markdown",
   "id": "df5d768d",
   "metadata": {},
   "source": [
    "# question 01"
   ]
  },
  {
   "cell_type": "code",
   "execution_count": 1,
   "id": "992bf6c1",
   "metadata": {},
   "outputs": [
    {
     "name": "stdout",
     "output_type": "stream",
     "text": [
      "Accuracy: 1.0\n"
     ]
    }
   ],
   "source": [
    "from sklearn.datasets import load_iris\n",
    "from sklearn.model_selection import train_test_split\n",
    "from sklearn.neighbors import KNeighborsClassifier\n",
    "from sklearn.metrics import accuracy_score\n",
    "\n",
    "# Load the Iris dataset\n",
    "iris = load_iris()\n",
    "X, y = iris.data, iris.target\n",
    "\n",
    "# Split the data into training and testing sets\n",
    "X_train, X_test, y_train, y_test = train_test_split(X, y, test_size=0.2, random_state=42)\n",
    "\n",
    "# Initialize the KNN classifier with k=3\n",
    "knn = KNeighborsClassifier(n_neighbors=3)\n",
    "\n",
    "# Train the classifier\n",
    "knn.fit(X_train, y_train)\n",
    "\n",
    "# Predict the labels for the test set\n",
    "y_pred = knn.predict(X_test)\n",
    "\n",
    "# Calculate the accuracy\n",
    "accuracy = accuracy_score(y_test, y_pred)\n",
    "\n",
    "# Print the accuracy\n",
    "print(f'Accuracy: {accuracy}')\n"
   ]
  },
  {
   "cell_type": "markdown",
   "id": "3f738933",
   "metadata": {},
   "source": [
    "# question 02"
   ]
  },
  {
   "cell_type": "code",
   "execution_count": null,
   "id": "0bf4dce7",
   "metadata": {},
   "outputs": [],
   "source": [
    "from sklearn.datasets import load_boston\n",
    "from sklearn.model_selection import train_test_split\n",
    "from sklearn.neighbors import KNeighborsRegressor\n",
    "from sklearn.metrics import mean_squared_error\n",
    "\n",
    "# Load the Boston dataset\n",
    "boston = load_boston()\n",
    "X, y = boston.data, boston.target\n",
    "\n",
    "# Split the data into training and testing sets\n",
    "X_train, X_test, y_train, y_test = train_test_split(X, y, test_size=0.2, random_state=42)\n",
    "\n",
    "# Initialize the KNN regressor with k=5\n",
    "knn = KNeighborsRegressor(n_neighbors=5)\n",
    "\n",
    "# Train the regressor\n",
    "knn.fit(X_train, y_train)\n",
    "\n",
    "# Predict the target values for the test set\n",
    "y_pred = knn.predict(X_test)\n",
    "\n",
    "# Calculate the mean squared error\n",
    "mse = mean_squared_error(y_test, y_pred)\n",
    "\n",
    "# Print the mean squared error\n",
    "print(f'Mean Squared Error: {mse}')\n"
   ]
  },
  {
   "cell_type": "markdown",
   "id": "617efaae",
   "metadata": {},
   "source": [
    "# question 03"
   ]
  },
  {
   "cell_type": "code",
   "execution_count": 5,
   "id": "418e6480",
   "metadata": {},
   "outputs": [
    {
     "name": "stdout",
     "output_type": "stream",
     "text": [
      "Optimal k: 3\n",
      "Accuracy with optimal k: 1.0\n"
     ]
    }
   ],
   "source": [
    "from sklearn.datasets import load_iris\n",
    "from sklearn.model_selection import train_test_split, cross_val_score\n",
    "from sklearn.neighbors import KNeighborsClassifier\n",
    "\n",
    "# Load the Iris dataset\n",
    "iris = load_iris()\n",
    "X, y = iris.data, iris.target\n",
    "\n",
    "# Split the data into training and testing sets\n",
    "X_train, X_test, y_train, y_test = train_test_split(X, y, test_size=0.2, random_state=42)\n",
    "\n",
    "# Define a range of k values to search\n",
    "k_values = list(range(1, 11))\n",
    "\n",
    "# Initialize an empty dictionary to store cross-validation scores\n",
    "cv_scores = {}\n",
    "\n",
    "# Perform cross-validation for each k value\n",
    "for k in k_values:\n",
    "    knn = KNeighborsClassifier(n_neighbors=k)\n",
    "    scores = cross_val_score(knn, X_train, y_train, cv=5, scoring='accuracy')\n",
    "    cv_scores[k] = scores.mean()\n",
    "\n",
    "# Find the optimal k value with the highest cross-validation score\n",
    "optimal_k = max(cv_scores, key=cv_scores.get)\n",
    "\n",
    "# Train the KNN classifier with the optimal k value\n",
    "knn = KNeighborsClassifier(n_neighbors=optimal_k)\n",
    "knn.fit(X_train, y_train)\n",
    "\n",
    "# Evaluate on the test set\n",
    "accuracy = knn.score(X_test, y_test)\n",
    "\n",
    "# Print the optimal k value and accuracy\n",
    "print(f'Optimal k: {optimal_k}')\n",
    "print(f'Accuracy with optimal k: {accuracy}')\n"
   ]
  },
  {
   "cell_type": "markdown",
   "id": "2043afdb",
   "metadata": {},
   "source": [
    "# question 04"
   ]
  },
  {
   "cell_type": "code",
   "execution_count": 6,
   "id": "0c202a9e",
   "metadata": {},
   "outputs": [
    {
     "name": "stdout",
     "output_type": "stream",
     "text": [
      "Optimal k: 6\n",
      "Cross-validation score with optimal k: 0.9800000000000001\n"
     ]
    }
   ],
   "source": [
    "from sklearn.datasets import load_iris\n",
    "from sklearn.model_selection import cross_val_score\n",
    "from sklearn.neighbors import KNeighborsClassifier\n",
    "\n",
    "# Load the Iris dataset\n",
    "iris = load_iris()\n",
    "X, y = iris.data, iris.target\n",
    "\n",
    "# Define a range of k values to search\n",
    "k_values = list(range(1, 31))\n",
    "\n",
    "# Initialize an empty list to store cross-validation scores\n",
    "cv_scores = []\n",
    "\n",
    "# Perform cross-validation for each k value\n",
    "for k in k_values:\n",
    "    knn = KNeighborsClassifier(n_neighbors=k)\n",
    "    scores = cross_val_score(knn, X, y, cv=5, scoring='accuracy')\n",
    "    cv_scores.append(scores.mean())\n",
    "\n",
    "# Find the optimal k value with the highest cross-validation score\n",
    "optimal_k = k_values[cv_scores.index(max(cv_scores))]\n",
    "\n",
    "# Print the optimal k value and its corresponding cross-validation score\n",
    "print(f'Optimal k: {optimal_k}')\n",
    "print(f'Cross-validation score with optimal k: {max(cv_scores)}')\n"
   ]
  },
  {
   "cell_type": "markdown",
   "id": "ffeb7a01",
   "metadata": {},
   "source": [
    "# question 05"
   ]
  },
  {
   "cell_type": "code",
   "execution_count": 7,
   "id": "402da962",
   "metadata": {},
   "outputs": [
    {
     "name": "stdout",
     "output_type": "stream",
     "text": [
      "Accuracy: 1.0\n"
     ]
    }
   ],
   "source": [
    "from sklearn.datasets import load_iris\n",
    "from sklearn.model_selection import train_test_split\n",
    "from sklearn.neighbors import KNeighborsClassifier\n",
    "from sklearn.metrics import accuracy_score\n",
    "\n",
    "# Load the Iris dataset\n",
    "iris = load_iris()\n",
    "X, y = iris.data, iris.target\n",
    "\n",
    "# Split the data into training and testing sets\n",
    "X_train, X_test, y_train, y_test = train_test_split(X, y, test_size=0.2, random_state=42)\n",
    "\n",
    "# Initialize the KNN classifier with k=5 and 'distance' for weighted voting\n",
    "knn = KNeighborsClassifier(n_neighbors=5, weights='distance')\n",
    "\n",
    "# Train the classifier\n",
    "knn.fit(X_train, y_train)\n",
    "\n",
    "# Predict the labels for the test set\n",
    "y_pred = knn.predict(X_test)\n",
    "\n",
    "# Calculate the accuracy\n",
    "accuracy = accuracy_score(y_test, y_pred)\n",
    "\n",
    "# Print the accuracy\n",
    "print(f'Accuracy: {accuracy}')\n"
   ]
  },
  {
   "cell_type": "markdown",
   "id": "0bb3748a",
   "metadata": {},
   "source": [
    "# question 06"
   ]
  },
  {
   "cell_type": "code",
   "execution_count": 8,
   "id": "667e140b",
   "metadata": {},
   "outputs": [],
   "source": [
    "from sklearn.preprocessing import StandardScaler\n",
    "\n",
    "def standardize_features(X_train, X_test):\n",
    "    \"\"\"\n",
    "    Standardizes the features using StandardScaler.\n",
    "\n",
    "    Parameters:\n",
    "        X_train (numpy.ndarray): Training features.\n",
    "        X_test (numpy.ndarray): Testing features.\n",
    "\n",
    "    Returns:\n",
    "        X_train_std (numpy.ndarray): Standardized training features.\n",
    "        X_test_std (numpy.ndarray): Standardized testing features.\n",
    "    \"\"\"\n",
    "    # Initialize the StandardScaler\n",
    "    scaler = StandardScaler()\n",
    "\n",
    "    # Fit the scaler on the training data and transform both training and testing data\n",
    "    X_train_std = scaler.fit_transform(X_train)\n",
    "    X_test_std = scaler.transform(X_test)\n",
    "\n",
    "    return X_train_std, X_test_std\n"
   ]
  },
  {
   "cell_type": "code",
   "execution_count": 9,
   "id": "977f4406",
   "metadata": {},
   "outputs": [],
   "source": [
    "# Assuming you have X_train and X_test\n",
    "X_train_std, X_test_std = standardize_features(X_train, X_test)\n",
    "\n",
    "# Now, you can proceed to use X_train_std and X_test_std in your KNN classifier.\n"
   ]
  },
  {
   "cell_type": "markdown",
   "id": "1558ac58",
   "metadata": {},
   "source": [
    "# question 07"
   ]
  },
  {
   "cell_type": "code",
   "execution_count": 10,
   "id": "848cbc8e",
   "metadata": {},
   "outputs": [],
   "source": [
    "import math\n",
    "\n",
    "def euclidean_distance(point1, point2):\n",
    "    \"\"\"\n",
    "    Calculates the Euclidean distance between two points.\n",
    "\n",
    "    Parameters:\n",
    "        point1 (tuple): Coordinates of the first point (x1, y1).\n",
    "        point2 (tuple): Coordinates of the second point (x2, y2).\n",
    "\n",
    "    Returns:\n",
    "        distance (float): Euclidean distance between the two points.\n",
    "    \"\"\"\n",
    "    x1, y1 = point1\n",
    "    x2, y2 = point2\n",
    "\n",
    "    distance = math.sqrt((x2 - x1)**2 + (y2 - y1)**2)\n",
    "    \n",
    "    return distance\n"
   ]
  },
  {
   "cell_type": "code",
   "execution_count": 11,
   "id": "6af1fc80",
   "metadata": {},
   "outputs": [
    {
     "name": "stdout",
     "output_type": "stream",
     "text": [
      "The Euclidean distance between (1, 2) and (4, 6) is 5.00\n"
     ]
    }
   ],
   "source": [
    "# Example usage\n",
    "point1 = (1, 2)\n",
    "point2 = (4, 6)\n",
    "\n",
    "distance = euclidean_distance(point1, point2)\n",
    "print(f\"The Euclidean distance between {point1} and {point2} is {distance:.2f}\")\n"
   ]
  },
  {
   "cell_type": "markdown",
   "id": "030ee53c",
   "metadata": {},
   "source": [
    "# question 08"
   ]
  },
  {
   "cell_type": "code",
   "execution_count": 12,
   "id": "741de7a0",
   "metadata": {},
   "outputs": [],
   "source": [
    "def manhattan_distance(point1, point2):\n",
    "    \"\"\"\n",
    "    Calculates the Manhattan distance between two points.\n",
    "\n",
    "    Parameters:\n",
    "        point1 (tuple): Coordinates of the first point (x1, y1).\n",
    "        point2 (tuple): Coordinates of the second point (x2, y2).\n",
    "\n",
    "    Returns:\n",
    "        distance (float): Manhattan distance between the two points.\n",
    "    \"\"\"\n",
    "    x1, y1 = point1\n",
    "    x2, y2 = point2\n",
    "\n",
    "    distance = abs(x2 - x1) + abs(y2 - y1)\n",
    "    \n",
    "    return distance\n"
   ]
  },
  {
   "cell_type": "code",
   "execution_count": 13,
   "id": "73e5d9f2",
   "metadata": {},
   "outputs": [
    {
     "name": "stdout",
     "output_type": "stream",
     "text": [
      "The Manhattan distance between (1, 2) and (4, 6) is 7\n"
     ]
    }
   ],
   "source": [
    "# Example usage\n",
    "point1 = (1, 2)\n",
    "point2 = (4, 6)\n",
    "\n",
    "distance = manhattan_distance(point1, point2)\n",
    "print(f\"The Manhattan distance between {point1} and {point2} is {distance}\")\n"
   ]
  },
  {
   "cell_type": "code",
   "execution_count": null,
   "id": "ee9dd812",
   "metadata": {},
   "outputs": [],
   "source": []
  }
 ],
 "metadata": {
  "kernelspec": {
   "display_name": "Python 3 (ipykernel)",
   "language": "python",
   "name": "python3"
  },
  "language_info": {
   "codemirror_mode": {
    "name": "ipython",
    "version": 3
   },
   "file_extension": ".py",
   "mimetype": "text/x-python",
   "name": "python",
   "nbconvert_exporter": "python",
   "pygments_lexer": "ipython3",
   "version": "3.11.4"
  }
 },
 "nbformat": 4,
 "nbformat_minor": 5
}
